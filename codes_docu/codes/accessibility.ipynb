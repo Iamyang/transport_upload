{
 "cells": [
  {
   "cell_type": "code",
   "execution_count": 2,
   "metadata": {},
   "outputs": [],
   "source": [
    "import numpy as np\n",
    "import pandas as pd\n",
    "import matplotlib.pyplot as plt\n",
    "plt.rcParams['font.sans-serif'] = ['SimHei']\n",
    "plt.rcParams['axes.unicode_minus'] = False"
   ]
  },
  {
   "cell_type": "code",
   "execution_count": 15,
   "metadata": {},
   "outputs": [],
   "source": [
    "path='e:\\\\RESEARCH\\\\Transportation\\\\script\\\\amap_transport\\\\data'\n",
    "# path=os.path.join(os.getcwd(), 'data')\n",
    "data=pd.read_csv(path+'\\\\acc_avg_std.csv')\n",
    "data.columns=['speed_avg','rat_dist_avg','rat_dura_avg','speed_std','rat_dist_std','rat_dura_std']"
   ]
  },
  {
   "cell_type": "code",
   "execution_count": 16,
   "metadata": {},
   "outputs": [
    {
     "data": {
      "text/html": [
       "<div>\n",
       "<style>\n",
       "    .dataframe thead tr:only-child th {\n",
       "        text-align: right;\n",
       "    }\n",
       "\n",
       "    .dataframe thead th {\n",
       "        text-align: left;\n",
       "    }\n",
       "\n",
       "    .dataframe tbody tr th {\n",
       "        vertical-align: top;\n",
       "    }\n",
       "</style>\n",
       "<table border=\"1\" class=\"dataframe\">\n",
       "  <thead>\n",
       "    <tr style=\"text-align: right;\">\n",
       "      <th></th>\n",
       "      <th>speed_avg</th>\n",
       "      <th>rat_dist_avg</th>\n",
       "      <th>rat_dura_avg</th>\n",
       "      <th>speed_std</th>\n",
       "      <th>rat_dist_std</th>\n",
       "      <th>rat_dura_std</th>\n",
       "    </tr>\n",
       "  </thead>\n",
       "  <tbody>\n",
       "    <tr>\n",
       "      <th>count</th>\n",
       "      <td>2632.000000</td>\n",
       "      <td>2632.000000</td>\n",
       "      <td>2632.000000</td>\n",
       "      <td>2632.000000</td>\n",
       "      <td>2632.000000</td>\n",
       "      <td>2632.000000</td>\n",
       "    </tr>\n",
       "    <tr>\n",
       "      <th>mean</th>\n",
       "      <td>2.009092</td>\n",
       "      <td>1.020590</td>\n",
       "      <td>0.393054</td>\n",
       "      <td>0.587279</td>\n",
       "      <td>0.289797</td>\n",
       "      <td>0.112647</td>\n",
       "    </tr>\n",
       "    <tr>\n",
       "      <th>std</th>\n",
       "      <td>0.415678</td>\n",
       "      <td>0.178206</td>\n",
       "      <td>0.108066</td>\n",
       "      <td>0.218573</td>\n",
       "      <td>0.147977</td>\n",
       "      <td>0.061211</td>\n",
       "    </tr>\n",
       "    <tr>\n",
       "      <th>min</th>\n",
       "      <td>1.037882</td>\n",
       "      <td>0.516954</td>\n",
       "      <td>0.178114</td>\n",
       "      <td>0.143067</td>\n",
       "      <td>0.119425</td>\n",
       "      <td>0.031262</td>\n",
       "    </tr>\n",
       "    <tr>\n",
       "      <th>25%</th>\n",
       "      <td>1.749694</td>\n",
       "      <td>0.930800</td>\n",
       "      <td>0.323707</td>\n",
       "      <td>0.447648</td>\n",
       "      <td>0.213691</td>\n",
       "      <td>0.074767</td>\n",
       "    </tr>\n",
       "    <tr>\n",
       "      <th>50%</th>\n",
       "      <td>1.974708</td>\n",
       "      <td>1.000985</td>\n",
       "      <td>0.378305</td>\n",
       "      <td>0.545366</td>\n",
       "      <td>0.254533</td>\n",
       "      <td>0.095650</td>\n",
       "    </tr>\n",
       "    <tr>\n",
       "      <th>75%</th>\n",
       "      <td>2.212860</td>\n",
       "      <td>1.083063</td>\n",
       "      <td>0.440633</td>\n",
       "      <td>0.676566</td>\n",
       "      <td>0.320043</td>\n",
       "      <td>0.129999</td>\n",
       "    </tr>\n",
       "    <tr>\n",
       "      <th>max</th>\n",
       "      <td>6.995059</td>\n",
       "      <td>3.539669</td>\n",
       "      <td>1.265112</td>\n",
       "      <td>3.197279</td>\n",
       "      <td>2.800743</td>\n",
       "      <td>0.569367</td>\n",
       "    </tr>\n",
       "  </tbody>\n",
       "</table>\n",
       "</div>"
      ],
      "text/plain": [
       "         speed_avg  rat_dist_avg  rat_dura_avg    speed_std  rat_dist_std  \\\n",
       "count  2632.000000   2632.000000   2632.000000  2632.000000   2632.000000   \n",
       "mean      2.009092      1.020590      0.393054     0.587279      0.289797   \n",
       "std       0.415678      0.178206      0.108066     0.218573      0.147977   \n",
       "min       1.037882      0.516954      0.178114     0.143067      0.119425   \n",
       "25%       1.749694      0.930800      0.323707     0.447648      0.213691   \n",
       "50%       1.974708      1.000985      0.378305     0.545366      0.254533   \n",
       "75%       2.212860      1.083063      0.440633     0.676566      0.320043   \n",
       "max       6.995059      3.539669      1.265112     3.197279      2.800743   \n",
       "\n",
       "       rat_dura_std  \n",
       "count   2632.000000  \n",
       "mean       0.112647  \n",
       "std        0.061211  \n",
       "min        0.031262  \n",
       "25%        0.074767  \n",
       "50%        0.095650  \n",
       "75%        0.129999  \n",
       "max        0.569367  "
      ]
     },
     "execution_count": 16,
     "metadata": {},
     "output_type": "execute_result"
    }
   ],
   "source": [
    "data.describe()"
   ]
  },
  {
   "cell_type": "code",
   "execution_count": 17,
   "metadata": {},
   "outputs": [
    {
     "data": {
      "image/png": "[encoded data removed]",
      "text/plain": [
       "<matplotlib.figure.Figure at 0x24c5b71bcf8>"
      ]
     },
     "metadata": {},
     "output_type": "display_data"
    }
   ],
   "source": [
    "plt.scatter(data.rat_dist_avg,data.rat_dura_avg)\n",
    "plt.show()"
   ]
  },
  {
   "cell_type": "code",
   "execution_count": null,
   "metadata": {},
   "outputs": [],
   "source": []
  }
 ],
 "metadata": {
  "kernelspec": {
   "display_name": "Python 3",
   "language": "python",
   "name": "python3"
  },
  "language_info": {
   "codemirror_mode": {
    "name": "ipython",
    "version": 3
   },
   "file_extension": ".py",
   "mimetype": "text/x-python",
   "name": "python",
   "nbconvert_exporter": "python",
   "pygments_lexer": "ipython3",
   "version": "3.6.2"
  }
 },
 "nbformat": 4,
 "nbformat_minor": 2
}
